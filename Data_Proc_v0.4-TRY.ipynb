{
 "cells": [
  {
   "cell_type": "code",
   "execution_count": null,
   "metadata": {},
   "outputs": [],
   "source": [
    "### SVM"
   ]
  },
  {
   "cell_type": "code",
   "execution_count": 46,
   "metadata": {},
   "outputs": [],
   "source": [
    "import numpy as np\n",
    "import pandas as pd\n",
    "from sklearn import preprocessing\n",
    "from matplotlib import pyplot as plt\n",
    "import seaborn as sn\n",
    "from sklearn.metrics import confusion_matrix\n",
    "from sklearn import svm\n",
    "from sklearn.model_selection import train_test_split"
   ]
  },
  {
   "cell_type": "code",
   "execution_count": 47,
   "metadata": {},
   "outputs": [],
   "source": [
    "df = pd.read_csv(\"/home/mete/Workspace/Okul/Ders/Bil479/Data/train.csv\")\n",
    "df_test = pd.read_csv(\"/home/mete/Workspace/Okul/Ders/Bil479/Data/test.csv\") # hedef sütunu içermiyor\n",
    "df_correct = pd.read_csv(\"/home/mete/Workspace/Okul/Ders/Bil479/Data/testtarget.csv\")"
   ]
  },
  {
   "cell_type": "code",
   "execution_count": 48,
   "metadata": {},
   "outputs": [],
   "source": [
    "df = df.fillna(0)\n",
    "df_test = df_test.fillna(0)"
   ]
  },
  {
   "cell_type": "code",
   "execution_count": 49,
   "metadata": {},
   "outputs": [],
   "source": [
    "corr = df.corr()\n",
    "high_correlated_columns = corr[abs(corr[\"SalePrice\"])>0.2].index\n",
    "high_correlated_columns = high_correlated_columns.drop(\"SalePrice\")"
   ]
  },
  {
   "cell_type": "code",
   "execution_count": 50,
   "metadata": {},
   "outputs": [],
   "source": [
    "x_train = df[high_correlated_columns].values\n",
    "x_test = df_test[high_correlated_columns].values"
   ]
  },
  {
   "cell_type": "code",
   "execution_count": 51,
   "metadata": {},
   "outputs": [],
   "source": [
    "y_test = df_correct[\"SalePrice\"]\n",
    "y_train = df[\"SalePrice\"]"
   ]
  },
  {
   "cell_type": "code",
   "execution_count": 52,
   "metadata": {},
   "outputs": [],
   "source": [
    "y_train_max = max(y_train.values)\n",
    "y_train_min = min(y_train.values)\n",
    "y_train = (y_train-y_train_min)/(y_train_max-y_train_min)"
   ]
  },
  {
   "cell_type": "code",
   "execution_count": 53,
   "metadata": {},
   "outputs": [],
   "source": [
    "y_test_max = max(y_test.values)\n",
    "y_test_min = min(y_test.values)\n",
    "y_test = (y_test-y_test_min)/(y_test_max-y_test_min)"
   ]
  },
  {
   "cell_type": "code",
   "execution_count": 54,
   "metadata": {},
   "outputs": [],
   "source": [
    "from sklearn import preprocessing\n",
    "min_max_scaler = preprocessing.MinMaxScaler()\n",
    "\n",
    "x_train = min_max_scaler.fit_transform(x_train)\n",
    "x_test = min_max_scaler.fit_transform(x_test)"
   ]
  },
  {
   "cell_type": "code",
   "execution_count": 55,
   "metadata": {},
   "outputs": [],
   "source": [
    "y_train = np.array([int((x/(np.std(y_train)*2))) for x in y_train])\n",
    "y_test = np.array([int((x/(np.std(y_test)*2))) for x in y_test])"
   ]
  },
  {
   "cell_type": "code",
   "execution_count": 92,
   "metadata": {
    "scrolled": true
   },
   "outputs": [
    {
     "data": {
      "text/plain": [
       "SVC(C=1.0, break_ties=False, cache_size=200, class_weight=None, coef0=0.0,\n",
       "    decision_function_shape='ovr', degree=7, gamma='scale', kernel='poly',\n",
       "    max_iter=-1, probability=False, random_state=None, shrinking=True,\n",
       "    tol=0.001, verbose=False)"
      ]
     },
     "execution_count": 92,
     "metadata": {},
     "output_type": "execute_result"
    }
   ],
   "source": [
    "clf = svm.SVC(kernel=\"poly\",degree=7,gamma=\"scale\")\n",
    "clf.fit(x_train, y_train)"
   ]
  },
  {
   "cell_type": "code",
   "execution_count": 93,
   "metadata": {},
   "outputs": [],
   "source": [
    "y_pred = clf.predict(x_test)"
   ]
  },
  {
   "cell_type": "code",
   "execution_count": 94,
   "metadata": {},
   "outputs": [],
   "source": [
    "conf_matrix = confusion_matrix(y_test,y_pred)"
   ]
  },
  {
   "cell_type": "code",
   "execution_count": 95,
   "metadata": {},
   "outputs": [
    {
     "name": "stdout",
     "output_type": "stream",
     "text": [
      "[[792  60   0   0]\n",
      " [ 83 431  15   0]\n",
      " [  6  20  43   0]\n",
      " [  0   0   9   0]]\n"
     ]
    }
   ],
   "source": [
    "print(conf_matrix)"
   ]
  },
  {
   "cell_type": "code",
   "execution_count": 96,
   "metadata": {},
   "outputs": [],
   "source": [
    "conf_vals = []\n",
    "for i in range(conf_matrix.shape[0]):\n",
    "    TP = conf_matrix[i,i]\n",
    "    FP = conf_matrix[i,:].sum() - TP\n",
    "    FN = conf_matrix[:,i].sum() - TP\n",
    "    TN = conf_matrix.sum() - (TP + FP + FN)\n",
    "    conf_vals.append([TP,FP,FN,TN])\n",
    "conf_vals = np.array(conf_vals)"
   ]
  },
  {
   "cell_type": "code",
   "execution_count": 97,
   "metadata": {},
   "outputs": [
    {
     "name": "stdout",
     "output_type": "stream",
     "text": [
      "Accuracy:0.8677176148046607\n"
     ]
    }
   ],
   "source": [
    "# Total Accuracy = (TP + TN)/(TP + TN + FP + FN)\n",
    "acc = (y_test == y_pred).sum()/y_test.shape[0]\n",
    "print(f\"Accuracy:{acc}\")"
   ]
  },
  {
   "cell_type": "code",
   "execution_count": 98,
   "metadata": {
    "scrolled": true
   },
   "outputs": [
    {
     "name": "stdout",
     "output_type": "stream",
     "text": [
      "Sınıf0 = 0.8978752570253599\n",
      "Sınıf1 = 0.8779986291980809\n",
      "Sınıf2 = 0.9657299520219328\n",
      "Sınıf3 = 0.9938313913639479\n"
     ]
    }
   ],
   "source": [
    "# Accuracy = (TP + TN)/(TP + TN + FP + FN)\n",
    "for i in range(conf_matrix.shape[0]):\n",
    "    s = (conf_vals[i,0] + conf_vals[i,3]) / conf_vals[i,:].sum()\n",
    "    print(f\"Sınıf{i} = {s}\")"
   ]
  },
  {
   "cell_type": "code",
   "execution_count": 99,
   "metadata": {},
   "outputs": [
    {
     "name": "stdout",
     "output_type": "stream",
     "text": [
      "Sınıf0 = TP(792) / (TP(792) + FN(89)) = 0.8989784335981839\n",
      "Sınıf1 = TP(431) / (TP(431) + FN(80)) = 0.8434442270058709\n",
      "Sınıf2 = TP(43) / (TP(43) + FN(24)) = 0.6417910447761194\n",
      "Sınıf3 = TP(0) / (TP(0) + FN(0)) = nan\n",
      "avg = 0.5960534263450435\n"
     ]
    },
    {
     "name": "stderr",
     "output_type": "stream",
     "text": [
      "/home/mete/Workspace/Okul/main_env/lib/python3.6/site-packages/ipykernel_launcher.py:4: RuntimeWarning: invalid value encountered in long_scalars\n",
      "  after removing the cwd from sys.path.\n"
     ]
    }
   ],
   "source": [
    "print(\"Sensitivity------------------------------------\")\n",
    "# Sensitivity = TP / TP + FN\n",
    "sm = 0\n",
    "for i in range(conf_matrix.shape[0]):\n",
    "    s = conf_vals[i,0] / (conf_vals[i,0] + conf_vals[i,2])\n",
    "    if not (np.isnan(s)):\n",
    "        sm += s\n",
    "        \n",
    "    print(f\"Sınıf{i} = TP({conf_vals[i,0]}) / (TP({conf_vals[i,0]}) + FN({conf_vals[i,2]})) = {s}\")\n",
    "print(f\"avg = {sm/conf_matrix.shape[0]}\")   "
   ]
  },
  {
   "cell_type": "code",
   "execution_count": 91,
   "metadata": {},
   "outputs": [
    {
     "name": "stdout",
     "output_type": "stream",
     "text": [
      "Sınıf0 = TN(506) / (TN(506)+FP(38)) = 0.9301470588235294\n",
      "Sınıf1 = TN(874) / (TN(874)+FP(113)) = 0.8855116514690983\n",
      "Sınıf2 = TN(1364) / (TN(1364)+FP(23)) = 0.9834174477289113\n",
      "Sınıf3 = TN(1450) / (TN(1450)+FP(9)) = 0.9938313913639479\n"
     ]
    }
   ],
   "source": [
    "print(\"Specificity-----------------------------------\")\n",
    "# Specificity = TN / TN + FP\n",
    "sm = 0\n",
    "for i in range(conf_matrix.shape[0]):\n",
    "    s = conf_vals[i,3] / (conf_vals[i,3] + conf_vals[i,1])\n",
    "    if not (np.isnan(s)):\n",
    "        sm += s\n",
    "    print(f\"Sınıf{i} = TN({conf_vals[i,3]}) / (TN({conf_vals[i,3]})+FP({conf_vals[i,1]})) = {s}\")\n",
    "print(f\"avg = {sm/conf_matrix.shape[0]}\") \n"
   ]
  },
  {
   "cell_type": "code",
   "execution_count": 82,
   "metadata": {},
   "outputs": [
    {
     "name": "stdout",
     "output_type": "stream",
     "text": [
      "Sınıf0 = TP(830) / (TP(830) + FP(22)) = 0.9741784037558685\n",
      "Sınıf1 = TP(398) / (TP(398) + FP(131)) = 0.7523629489603024\n",
      "Sınıf2 = TP(34) / (TP(34) + FP(35)) = 0.4927536231884058\n",
      "Sınıf3 = TP(0) / (TP(0) + FP(9)) = 0.0\n"
     ]
    }
   ],
   "source": [
    "print(\"Precision-----------------------------------\")\n",
    "##### Precision = TP / TP + FP\n",
    "sm = 0\n",
    "for i in range(conf_matrix.shape[0]):\n",
    "    s = conf_vals[i,0] / (conf_vals[i,0] + conf_vals[i,1])\n",
    "    if not (np.isnan(s)):\n",
    "        sm += s\n",
    "    print(f\"Sınıf{i} = TP({conf_vals[i,0]}) / (TP({conf_vals[i,0]}) + FP({conf_vals[i,1]})) = {s}\")\n",
    "print(f\"avg = {sm/conf_matrix.shape[0]}\") "
   ]
  },
  {
   "cell_type": "code",
   "execution_count": null,
   "metadata": {},
   "outputs": [],
   "source": []
  },
  {
   "cell_type": "code",
   "execution_count": null,
   "metadata": {},
   "outputs": [],
   "source": []
  },
  {
   "cell_type": "code",
   "execution_count": null,
   "metadata": {},
   "outputs": [],
   "source": []
  }
 ],
 "metadata": {
  "kernelspec": {
   "display_name": "Python 3",
   "language": "python",
   "name": "python3"
  },
  "language_info": {
   "codemirror_mode": {
    "name": "ipython",
    "version": 3
   },
   "file_extension": ".py",
   "mimetype": "text/x-python",
   "name": "python",
   "nbconvert_exporter": "python",
   "pygments_lexer": "ipython3",
   "version": "3.6.9"
  }
 },
 "nbformat": 4,
 "nbformat_minor": 4
}
