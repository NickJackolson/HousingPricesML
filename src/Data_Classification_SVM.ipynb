{
 "cells": [
  {
   "cell_type": "code",
   "execution_count": null,
   "metadata": {},
   "outputs": [],
   "source": [
    "### SVM"
   ]
  },
  {
   "cell_type": "code",
   "execution_count": 3,
   "metadata": {},
   "outputs": [],
   "source": [
    "import numpy as np\n",
    "import pandas as pd\n",
    "from sklearn import preprocessing\n",
    "from matplotlib import pyplot as plt\n",
    "import seaborn as sn\n",
    "from sklearn.metrics import confusion_matrix\n",
    "from sklearn import svm\n",
    "from sklearn.model_selection import train_test_split"
   ]
  },
  {
   "cell_type": "code",
   "execution_count": 4,
   "metadata": {},
   "outputs": [],
   "source": [
    "TRAIN_PATH = 'C:\\\\Users\\\\mychu\\\\Workspace\\\\ML_Paper\\\\data\\\\train.csv'\n",
    "TEST_PATH = 'C:\\\\Users\\\\mychu\\\\Workspace\\\\ML_Paper\\\\data\\\\test.csv'\n",
    "TEST_TARGET_PATH = 'C:\\\\Users\\\\mychu\\\\Workspace\\\\ML_Paper\\\\data\\\\testtarget.csv'\n",
    "\n",
    "df = pd.read_csv(TRAIN_PATH)\n",
    "df_test = pd.read_csv(TEST_PATH) # hedef sütunu içermiyor\n",
    "df_correct = pd.read_csv(TEST_TARGET_PATH)"
   ]
  },
  {
   "cell_type": "code",
   "execution_count": 5,
   "metadata": {},
   "outputs": [],
   "source": [
    "le = preprocessing.LabelEncoder()"
   ]
  },
  {
   "cell_type": "code",
   "execution_count": 6,
   "metadata": {},
   "outputs": [],
   "source": [
    "# TRAIN"
   ]
  },
  {
   "cell_type": "code",
   "execution_count": 7,
   "metadata": {},
   "outputs": [],
   "source": [
    "df_categorical = df.select_dtypes(include=['object'])\n",
    "df_categorical = df_categorical.fillna(\"none\")\n",
    "for column in df_categorical:\n",
    "    df_categorical[column] = le.fit_transform(df_categorical[column])"
   ]
  },
  {
   "cell_type": "code",
   "execution_count": 8,
   "metadata": {},
   "outputs": [
    {
     "name": "stderr",
     "output_type": "stream",
     "text": [
      "c:\\users\\mychu\\workspace\\ml_paper\\ml_env\\lib\\site-packages\\ipykernel_launcher.py:4: SettingWithCopyWarning: \n",
      "A value is trying to be set on a copy of a slice from a DataFrame.\n",
      "Try using .loc[row_indexer,col_indexer] = value instead\n",
      "\n",
      "See the caveats in the documentation: https://pandas.pydata.org/pandas-docs/stable/user_guide/indexing.html#returning-a-view-versus-a-copy\n",
      "  after removing the cwd from sys.path.\n"
     ]
    }
   ],
   "source": [
    "df_numerical = df.select_dtypes(include=['int64','float64'])\n",
    "\n",
    "for column in df_numerical:\n",
    "    df_numerical[column] = df_numerical[column].fillna(df_numerical[column].mean())\n",
    "\n",
    "df_new = df_categorical.join(df_numerical)"
   ]
  },
  {
   "cell_type": "code",
   "execution_count": 9,
   "metadata": {},
   "outputs": [],
   "source": [
    "# TEST"
   ]
  },
  {
   "cell_type": "code",
   "execution_count": 10,
   "metadata": {},
   "outputs": [],
   "source": [
    "df_test_categorical = df_test.select_dtypes(include=['object'])\n",
    "\n",
    "df_test_categorical = df_test_categorical.fillna(\"none\")\n",
    "\n",
    "for column in df_test_categorical:\n",
    "    df_test_categorical[column] = le.fit_transform(df_test_categorical[column])"
   ]
  },
  {
   "cell_type": "code",
   "execution_count": 11,
   "metadata": {},
   "outputs": [
    {
     "name": "stderr",
     "output_type": "stream",
     "text": [
      "c:\\users\\mychu\\workspace\\ml_paper\\ml_env\\lib\\site-packages\\ipykernel_launcher.py:4: SettingWithCopyWarning: \n",
      "A value is trying to be set on a copy of a slice from a DataFrame.\n",
      "Try using .loc[row_indexer,col_indexer] = value instead\n",
      "\n",
      "See the caveats in the documentation: https://pandas.pydata.org/pandas-docs/stable/user_guide/indexing.html#returning-a-view-versus-a-copy\n",
      "  after removing the cwd from sys.path.\n"
     ]
    }
   ],
   "source": [
    "df_test_numerical = df_test.select_dtypes(include=['int64','float64'])\n",
    "\n",
    "for column in df_test_numerical:\n",
    "    df_test_numerical[column] = df_test_numerical[column].fillna(df_test_numerical[column].mean())\n",
    "\n",
    "df_test_new = df_test_categorical.join(df_test_numerical)"
   ]
  },
  {
   "cell_type": "code",
   "execution_count": null,
   "metadata": {},
   "outputs": [],
   "source": []
  },
  {
   "cell_type": "code",
   "execution_count": null,
   "metadata": {},
   "outputs": [],
   "source": []
  },
  {
   "cell_type": "code",
   "execution_count": 12,
   "metadata": {},
   "outputs": [],
   "source": [
    "corr = df.corr()\n",
    "high_correlated_columns = corr[abs(corr[\"SalePrice\"])>0.2].index\n",
    "high_correlated_columns = high_correlated_columns.drop(\"SalePrice\")"
   ]
  },
  {
   "cell_type": "code",
   "execution_count": 29,
   "metadata": {},
   "outputs": [],
   "source": [
    "x_train = df_new[high_correlated_columns].values\n",
    "x_test = df_test_new[high_correlated_columns].values"
   ]
  },
  {
   "cell_type": "code",
   "execution_count": 30,
   "metadata": {},
   "outputs": [],
   "source": [
    "y_test = df_correct[\"SalePrice\"]\n",
    "y_train = df[\"SalePrice\"]"
   ]
  },
  {
   "cell_type": "code",
   "execution_count": 31,
   "metadata": {},
   "outputs": [],
   "source": [
    "y_train_max = max(y_train.values)\n",
    "y_train_min = min(y_train.values)\n",
    "y_train = (y_train-y_train_min)/(y_train_max-y_train_min)"
   ]
  },
  {
   "cell_type": "code",
   "execution_count": 32,
   "metadata": {},
   "outputs": [],
   "source": [
    "y_test_max = max(y_test.values)\n",
    "y_test_min = min(y_test.values)\n",
    "y_test = (y_test-y_test_min)/(y_test_max-y_test_min)"
   ]
  },
  {
   "cell_type": "code",
   "execution_count": 33,
   "metadata": {},
   "outputs": [],
   "source": [
    "from sklearn import preprocessing\n",
    "min_max_scaler = preprocessing.MinMaxScaler()\n",
    "\n",
    "x_train = min_max_scaler.fit_transform(x_train)\n",
    "x_test = min_max_scaler.fit_transform(x_test)"
   ]
  },
  {
   "cell_type": "code",
   "execution_count": 34,
   "metadata": {},
   "outputs": [],
   "source": [
    "full = np.concatenate((y_train,y_test))\n",
    "std_dev = np.std(full)"
   ]
  },
  {
   "cell_type": "code",
   "execution_count": 35,
   "metadata": {},
   "outputs": [],
   "source": [
    "y_train = np.array([int((x/(std_dev*2))) for x in y_train])\n",
    "y_test = np.array([int((x/(std_dev*2))) for x in y_test])"
   ]
  },
  {
   "cell_type": "code",
   "execution_count": 36,
   "metadata": {},
   "outputs": [
    {
     "data": {
      "text/plain": [
       "array([0, 1, 2, 3])"
      ]
     },
     "execution_count": 36,
     "metadata": {},
     "output_type": "execute_result"
    }
   ],
   "source": [
    "np.unique(y_train)"
   ]
  },
  {
   "cell_type": "code",
   "execution_count": 37,
   "metadata": {
    "scrolled": true
   },
   "outputs": [
    {
     "data": {
      "text/plain": [
       "SVC(degree=7, kernel='poly')"
      ]
     },
     "execution_count": 37,
     "metadata": {},
     "output_type": "execute_result"
    }
   ],
   "source": [
    "clf = svm.SVC(kernel=\"poly\",degree=7,gamma=\"scale\")\n",
    "clf.fit(x_train, y_train)"
   ]
  },
  {
   "cell_type": "code",
   "execution_count": 38,
   "metadata": {},
   "outputs": [],
   "source": [
    "y_pred = clf.predict(x_train)"
   ]
  },
  {
   "cell_type": "code",
   "execution_count": 39,
   "metadata": {},
   "outputs": [
    {
     "name": "stdout",
     "output_type": "stream",
     "text": [
      "[[1119    1    0    0]\n",
      " [   5  310    0    0]\n",
      " [   0    0   21    0]\n",
      " [   0    0    0    4]]\n",
      "Total Accuracy---------------------------------\n",
      "Accuracy:0.9958904109589041\n",
      "Accuracy---------------------------------\n",
      "Sınıf0 = 0.9958904109589041\n",
      "Sınıf1 = 0.9958904109589041\n",
      "Sınıf2 = 1.0\n",
      "Sınıf3 = 1.0\n",
      "Sensitivity------------------------------------\n",
      "Sınıf0 = TP(1119) / (TP(1119) + FN(5)) = 0.9955516014234875\n",
      "Sınıf1 = TP(310) / (TP(310) + FN(1)) = 0.9967845659163987\n",
      "Sınıf2 = TP(21) / (TP(21) + FN(0)) = 1.0\n",
      "Sınıf3 = TP(4) / (TP(4) + FN(0)) = 1.0\n",
      "avg = 0.9980840418349716\n",
      "Specificity-----------------------------------\n",
      "Sınıf0 = TN(335) / (TN(335)+FP(1)) = 0.9970238095238095\n",
      "Sınıf1 = TN(1144) / (TN(1144)+FP(5)) = 0.9956483899042646\n",
      "Sınıf2 = TN(1439) / (TN(1439)+FP(0)) = 1.0\n",
      "Sınıf3 = TN(1456) / (TN(1456)+FP(0)) = 1.0\n",
      "avg = 0.9981680498570186\n",
      "Precision-----------------------------------\n",
      "Sınıf0 = TP(1119) / (TP(1119) + FP(1)) = 0.9991071428571429\n",
      "Sınıf1 = TP(310) / (TP(310) + FP(5)) = 0.9841269841269841\n",
      "Sınıf2 = TP(21) / (TP(21) + FP(0)) = 1.0\n",
      "Sınıf3 = TP(4) / (TP(4) + FP(0)) = 1.0\n",
      "avg = 0.9958085317460317\n"
     ]
    }
   ],
   "source": [
    "conf_matrix = confusion_matrix(y_train,y_pred)\n",
    "print(conf_matrix)\n",
    "print(\"Total Accuracy---------------------------------\")\n",
    "\n",
    "\n",
    "\n",
    "conf_vals = []\n",
    "for i in range(conf_matrix.shape[0]):\n",
    "    TP = conf_matrix[i,i]\n",
    "    FP = conf_matrix[i,:].sum() - TP\n",
    "    FN = conf_matrix[:,i].sum() - TP\n",
    "    TN = conf_matrix.sum() - (TP + FP + FN)\n",
    "    conf_vals.append([TP,FP,FN,TN])\n",
    "conf_vals = np.array(conf_vals)\n",
    "\n",
    "# Total Accuracy = (TP + TN)/(TP + TN + FP + FN)\n",
    "acc = (y_train == y_pred).sum()/y_train.shape[0]\n",
    "print(f\"Accuracy:{acc}\")\n",
    "print(\"Accuracy---------------------------------\")\n",
    "\n",
    "\n",
    "\n",
    "\n",
    "\n",
    "# Accuracy = (TP + TN)/(TP + TN + FP + FN)\n",
    "for i in range(conf_matrix.shape[0]):\n",
    "    s = (conf_vals[i,0] + conf_vals[i,3]) / conf_vals[i,:].sum()\n",
    "    print(f\"Sınıf{i} = {s}\")\n",
    "    \n",
    "    \n",
    "    \n",
    "    \n",
    "\n",
    "\n",
    "print(\"Sensitivity------------------------------------\")\n",
    "# Sensitivity = TP / TP + FN\n",
    "sm = 0\n",
    "for i in range(conf_matrix.shape[0]):\n",
    "    s = conf_vals[i,0] / (conf_vals[i,0] + conf_vals[i,2])\n",
    "    if not (np.isnan(s)):\n",
    "        sm += s\n",
    "        \n",
    "    print(f\"Sınıf{i} = TP({conf_vals[i,0]}) / (TP({conf_vals[i,0]}) + FN({conf_vals[i,2]})) = {s}\")\n",
    "print(f\"avg = {sm/conf_matrix.shape[0]}\")   \n",
    "\n",
    "\n",
    "\n",
    "\n",
    "\n",
    "\n",
    "print(\"Specificity-----------------------------------\")\n",
    "# Specificity = TN / TN + FP\n",
    "sm = 0\n",
    "for i in range(conf_matrix.shape[0]):\n",
    "    s = conf_vals[i,3] / (conf_vals[i,3] + conf_vals[i,1])\n",
    "    if not (np.isnan(s)):\n",
    "        sm += s\n",
    "    print(f\"Sınıf{i} = TN({conf_vals[i,3]}) / (TN({conf_vals[i,3]})+FP({conf_vals[i,1]})) = {s}\")\n",
    "print(f\"avg = {sm/conf_matrix.shape[0]}\") \n",
    "\n",
    "\n",
    "\n",
    "\n",
    "print(\"Precision-----------------------------------\")\n",
    "##### Precision = TP / TP + FP\n",
    "sm = 0\n",
    "for i in range(conf_matrix.shape[0]):\n",
    "    s = conf_vals[i,0] / (conf_vals[i,0] + conf_vals[i,1])\n",
    "    if not (np.isnan(s)):\n",
    "        sm += s\n",
    "    print(f\"Sınıf{i} = TP({conf_vals[i,0]}) / (TP({conf_vals[i,0]}) + FP({conf_vals[i,1]})) = {s}\")\n",
    "print(f\"avg = {sm/conf_matrix.shape[0]}\") "
   ]
  },
  {
   "cell_type": "code",
   "execution_count": 40,
   "metadata": {},
   "outputs": [],
   "source": [
    "y_pred = clf.predict(x_test)"
   ]
  },
  {
   "cell_type": "code",
   "execution_count": 42,
   "metadata": {},
   "outputs": [
    {
     "name": "stdout",
     "output_type": "stream",
     "text": [
      "[[796   4   0   0]\n",
      " [272 298   0   0]\n",
      " [  8  70   0   0]\n",
      " [  1  10   0   0]]\n",
      "Total Accuracy---------------------------------\n",
      "Accuracy:0.7493150684931507\n",
      "Accuracy---------------------------------\n",
      "Sınıf0 = 0.8046607265250172\n",
      "Sınıf1 = 0.7559972583961617\n",
      "Sınıf2 = 0.9465387251542152\n",
      "Sınıf3 = 0.9924605894448252\n",
      "Sensitivity------------------------------------\n",
      "Sınıf0 = TP(796) / (TP(796) + FN(281)) = 0.7390900649953575\n",
      "Sınıf1 = TP(298) / (TP(298) + FN(84)) = 0.7801047120418848\n",
      "Sınıf2 = TP(0) / (TP(0) + FN(0)) = nan\n",
      "Sınıf3 = TP(0) / (TP(0) + FN(0)) = nan\n",
      "avg = 0.37979869425931057\n",
      "Specificity-----------------------------------\n",
      "Sınıf0 = TN(378) / (TN(378)+FP(4)) = 0.9895287958115183\n",
      "Sınıf1 = TN(805) / (TN(805)+FP(272)) = 0.7474466109563602\n",
      "Sınıf2 = TN(1381) / (TN(1381)+FP(78)) = 0.9465387251542152\n",
      "Sınıf3 = TN(1448) / (TN(1448)+FP(11)) = 0.9924605894448252\n",
      "avg = 0.9189936803417298\n",
      "Precision-----------------------------------\n",
      "Sınıf0 = TP(796) / (TP(796) + FP(4)) = 0.995\n",
      "Sınıf1 = TP(298) / (TP(298) + FP(272)) = 0.5228070175438596\n",
      "Sınıf2 = TP(0) / (TP(0) + FP(78)) = 0.0\n",
      "Sınıf3 = TP(0) / (TP(0) + FP(11)) = 0.0\n",
      "avg = 0.3794517543859649\n"
     ]
    },
    {
     "name": "stderr",
     "output_type": "stream",
     "text": [
      "c:\\users\\mychu\\workspace\\ml_paper\\ml_env\\lib\\site-packages\\ipykernel_launcher.py:39: RuntimeWarning: invalid value encountered in longlong_scalars\n"
     ]
    }
   ],
   "source": [
    "conf_matrix = confusion_matrix(y_test,y_pred)\n",
    "print(conf_matrix)\n",
    "print(\"Total Accuracy---------------------------------\")\n",
    "\n",
    "\n",
    "\n",
    "conf_vals = []\n",
    "for i in range(conf_matrix.shape[0]):\n",
    "    TP = conf_matrix[i,i]\n",
    "    FP = conf_matrix[i,:].sum() - TP\n",
    "    FN = conf_matrix[:,i].sum() - TP\n",
    "    TN = conf_matrix.sum() - (TP + FP + FN)\n",
    "    conf_vals.append([TP,FP,FN,TN])\n",
    "conf_vals = np.array(conf_vals)\n",
    "\n",
    "# Total Accuracy = (TP + TN)/(TP + TN + FP + FN)\n",
    "acc = (y_test == y_pred).sum()/y_train.shape[0]\n",
    "print(f\"Accuracy:{acc}\")\n",
    "print(\"Accuracy---------------------------------\")\n",
    "\n",
    "\n",
    "\n",
    "\n",
    "\n",
    "# Accuracy = (TP + TN)/(TP + TN + FP + FN)\n",
    "for i in range(conf_matrix.shape[0]):\n",
    "    s = (conf_vals[i,0] + conf_vals[i,3]) / conf_vals[i,:].sum()\n",
    "    print(f\"Sınıf{i} = {s}\")\n",
    "    \n",
    "    \n",
    "    \n",
    "    \n",
    "\n",
    "\n",
    "print(\"Sensitivity------------------------------------\")\n",
    "# Sensitivity = TP / TP + FN\n",
    "sm = 0\n",
    "for i in range(conf_matrix.shape[0]):\n",
    "    s = conf_vals[i,0] / (conf_vals[i,0] + conf_vals[i,2])\n",
    "    if not (np.isnan(s)):\n",
    "        sm += s\n",
    "        \n",
    "    print(f\"Sınıf{i} = TP({conf_vals[i,0]}) / (TP({conf_vals[i,0]}) + FN({conf_vals[i,2]})) = {s}\")\n",
    "print(f\"avg = {sm/conf_matrix.shape[0]}\")   \n",
    "\n",
    "\n",
    "\n",
    "\n",
    "\n",
    "\n",
    "print(\"Specificity-----------------------------------\")\n",
    "# Specificity = TN / TN + FP\n",
    "sm = 0\n",
    "for i in range(conf_matrix.shape[0]):\n",
    "    s = conf_vals[i,3] / (conf_vals[i,3] + conf_vals[i,1])\n",
    "    if not (np.isnan(s)):\n",
    "        sm += s\n",
    "    print(f\"Sınıf{i} = TN({conf_vals[i,3]}) / (TN({conf_vals[i,3]})+FP({conf_vals[i,1]})) = {s}\")\n",
    "print(f\"avg = {sm/conf_matrix.shape[0]}\") \n",
    "\n",
    "\n",
    "\n",
    "\n",
    "print(\"Precision-----------------------------------\")\n",
    "##### Precision = TP / TP + FP\n",
    "sm = 0\n",
    "for i in range(conf_matrix.shape[0]):\n",
    "    s = conf_vals[i,0] / (conf_vals[i,0] + conf_vals[i,1])\n",
    "    if not (np.isnan(s)):\n",
    "        sm += s\n",
    "    print(f\"Sınıf{i} = TP({conf_vals[i,0]}) / (TP({conf_vals[i,0]}) + FP({conf_vals[i,1]})) = {s}\")\n",
    "print(f\"avg = {sm/conf_matrix.shape[0]}\") "
   ]
  },
  {
   "cell_type": "code",
   "execution_count": null,
   "metadata": {},
   "outputs": [],
   "source": []
  }
 ],
 "metadata": {
  "kernelspec": {
   "display_name": "Python 3",
   "language": "python",
   "name": "python3"
  },
  "language_info": {
   "codemirror_mode": {
    "name": "ipython",
    "version": 3
   },
   "file_extension": ".py",
   "mimetype": "text/x-python",
   "name": "python",
   "nbconvert_exporter": "python",
   "pygments_lexer": "ipython3",
   "version": "3.7.4"
  }
 },
 "nbformat": 4,
 "nbformat_minor": 4
}
