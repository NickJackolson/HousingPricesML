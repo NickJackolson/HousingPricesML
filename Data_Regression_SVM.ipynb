{
 "cells": [
  {
   "cell_type": "code",
   "execution_count": 11,
   "metadata": {},
   "outputs": [],
   "source": [
    "import numpy as np\n",
    "import pandas as pd\n",
    "from matplotlib import pyplot as plt\n",
    "import tensorflow as tf\n",
    "from sklearn import metrics\n",
    "from sklearn import svm"
   ]
  },
  {
   "cell_type": "markdown",
   "metadata": {},
   "source": [
    "Veride aslında eksiklik yoktur fakat evlerde bulunmayan öznitelikler Nan olarak kaydedilmiştir. Bu verilerin kolay işlenebilmesi adına \"Nan\" veriler \"0\" ile doldurulur."
   ]
  },
  {
   "cell_type": "code",
   "execution_count": 2,
   "metadata": {
    "scrolled": true
   },
   "outputs": [],
   "source": [
    "df = pd.read_csv(\"/home/mete/Workspace/Okul/Ders/Bil479/Data/train.csv\")\n",
    "df_test = pd.read_csv(\"/home/mete/Workspace/Okul/Ders/Bil479/Data/test.csv\") # hedef sütunu içermiyor\n",
    "df_correct = pd.read_csv(\"/home/mete/Workspace/Okul/Ders/Bil479/Data/testtarget.csv\")"
   ]
  },
  {
   "cell_type": "code",
   "execution_count": 3,
   "metadata": {},
   "outputs": [],
   "source": [
    "df = df.fillna(0)\n",
    "df_test = df_test.fillna(0)"
   ]
  },
  {
   "cell_type": "markdown",
   "metadata": {},
   "source": [
    "Verinin coralasyon matrisi çıkartılır ve hedef (Satış fiyatı - SalePrice) ile ilişki oranı \"0.2\" den fazla olan\n",
    "öznitelikler seçilir."
   ]
  },
  {
   "cell_type": "code",
   "execution_count": 4,
   "metadata": {},
   "outputs": [],
   "source": [
    "corr = df.corr()\n",
    "high_correlated_columns = corr[abs(corr[\"SalePrice\"])>0.2].index\n",
    "high_correlated_columns = high_correlated_columns.drop(\"SalePrice\")"
   ]
  },
  {
   "cell_type": "markdown",
   "metadata": {},
   "source": [
    "Hedef öznitelik veriden ayrıştırılır ve Y olarak saklanır. Geri kalan özniteikler \"MinMaxScaler\" kullanılarak\n",
    "normalize edilir. Normalize edilmiş öznitelik değerleri X olarak saklanır."
   ]
  },
  {
   "cell_type": "code",
   "execution_count": 5,
   "metadata": {},
   "outputs": [],
   "source": [
    "x_train = df[high_correlated_columns].values\n",
    "x_test = df_test[high_correlated_columns].values"
   ]
  },
  {
   "cell_type": "code",
   "execution_count": 6,
   "metadata": {
    "scrolled": true
   },
   "outputs": [],
   "source": [
    "y_test = df_correct[\"SalePrice\"]\n",
    "y_train = df[\"SalePrice\"]"
   ]
  },
  {
   "cell_type": "code",
   "execution_count": 7,
   "metadata": {},
   "outputs": [],
   "source": [
    "y_train_max = max(y_train.values)\n",
    "y_train_min = min(y_train.values)\n",
    "y_train = (y_train-y_train_min)/(y_train_max-y_train_min)"
   ]
  },
  {
   "cell_type": "code",
   "execution_count": 8,
   "metadata": {},
   "outputs": [],
   "source": [
    "y_test_max = max(y_test.values)\n",
    "y_test_min = min(y_test.values)\n",
    "y_test = (y_test-y_test_min)/(y_test_max-y_test_min)"
   ]
  },
  {
   "cell_type": "code",
   "execution_count": 9,
   "metadata": {},
   "outputs": [],
   "source": [
    "from sklearn import preprocessing\n",
    "min_max_scaler = preprocessing.MinMaxScaler()\n",
    "\n",
    "x_train = min_max_scaler.fit_transform(x_train)\n",
    "x_test = min_max_scaler.fit_transform(x_test)"
   ]
  },
  {
   "cell_type": "code",
   "execution_count": 379,
   "metadata": {},
   "outputs": [
    {
     "name": "stdout",
     "output_type": "stream",
     "text": [
      "1 0.1 0.4516256375433265\n",
      "1 0.2 0.4909688624686237\n",
      "1 0.3 0.486803141845918\n",
      "1 0.4 0.5050956186791775\n",
      "1 0.5 0.5227262805029481\n",
      "1 0.6 0.5316681416676399\n",
      "1 0.7 0.5342823345451981\n",
      "1 0.8 0.5376585345338654\n",
      "1 0.9 0.5470088841341054\n",
      "1 1.0 0.5641367635709744\n",
      "----------------------------\n",
      "2 0.1 0.3200754722696464\n",
      "2 0.2 0.3454741333217155\n",
      "2 0.3 0.37975427269975615\n",
      "2 0.4 0.4253054080954579\n",
      "2 0.5 0.43577073776278985\n",
      "2 0.6 0.4177312445962694\n",
      "2 0.7 0.40041720791006785\n",
      "2 0.8 0.3807868419482928\n",
      "2 0.9 0.3563824688571481\n",
      "2 1.0 0.3436234278570768\n",
      "----------------------------\n",
      "3 0.1 0.3058201838037031\n",
      "3 0.2 0.2952003562356432\n",
      "3 0.3 0.30980051675912335\n",
      "3 0.4 0.31875336246391517\n",
      "3 0.5 0.3185582692533351\n",
      "3 0.6 0.3178201745792987\n",
      "3 0.7 0.3185363045496684\n",
      "3 0.8 0.31856302835363426\n",
      "3 0.9 0.31937746483848095\n",
      "3 1.0 0.31937746483848095\n",
      "----------------------------\n",
      "4 0.1 0.38182575207341607\n",
      "4 0.2 0.38215939657928266\n",
      "4 0.3 0.38215939657928266\n",
      "4 0.4 0.38215939657928266\n",
      "4 0.5 0.38215939657928266\n",
      "4 0.6 0.38215939657928266\n",
      "4 0.7 0.38215939657928266\n",
      "4 0.8 0.38215939657928266\n",
      "4 0.9 0.38215939657928266\n",
      "4 1.0 0.38215939657928266\n",
      "----------------------------\n",
      "5 0.1 0.3482932691979076\n",
      "5 0.2 0.3482932691979076\n",
      "5 0.3 0.3482932691979076\n",
      "5 0.4 0.3482932691979076\n",
      "5 0.5 0.3482932691979076\n",
      "5 0.6 0.3482932691979076\n",
      "5 0.7 0.3482932691979076\n",
      "5 0.8 0.3482932691979076\n",
      "5 0.9 0.3482932691979076\n",
      "5 1.0 0.3482932691979076\n",
      "----------------------------\n",
      "6 0.1 0.2815563565071987\n",
      "6 0.2 0.2815563565071987\n",
      "6 0.3 0.2815563565071987\n",
      "6 0.4 0.2815563565071987\n",
      "6 0.5 0.2815563565071987\n",
      "6 0.6 0.2815563565071987\n",
      "6 0.7 0.2815563565071987\n",
      "6 0.8 0.2815563565071987\n",
      "6 0.9 0.2815563565071987\n",
      "6 1.0 0.2815563565071987\n",
      "----------------------------\n",
      "7 0.1 0.23376452456683683\n",
      "7 0.2 0.23376452456683683\n",
      "7 0.3 0.23376452456683683\n",
      "7 0.4 0.23376452456683683\n",
      "7 0.5 0.23376452456683683\n",
      "7 0.6 0.23376452456683683\n",
      "7 0.7 0.23376452456683683\n",
      "7 0.8 0.23376452456683683\n",
      "7 0.9 0.23376452456683683\n",
      "7 1.0 0.23376452456683683\n",
      "----------------------------\n",
      "8 0.1 0.18880132894472612\n",
      "8 0.2 0.18880132894472612\n",
      "8 0.3 0.18880132894472612\n",
      "8 0.4 0.18880132894472612\n",
      "8 0.5 0.18880132894472612\n",
      "8 0.6 0.18880132894472612\n",
      "8 0.7 0.18880132894472612\n",
      "8 0.8 0.18880132894472612\n",
      "8 0.9 0.18880132894472612\n",
      "8 1.0 0.18880132894472612\n",
      "----------------------------\n",
      "9 0.1 0.10026239243497659\n",
      "9 0.2 0.10026239243497659\n",
      "9 0.3 0.10026239243497659\n",
      "9 0.4 0.10026239243497659\n",
      "9 0.5 0.10026239243497659\n",
      "9 0.6 0.10026239243497659\n",
      "9 0.7 0.10026239243497659\n",
      "9 0.8 0.10026239243497659\n",
      "9 0.9 0.10026239243497659\n",
      "9 1.0 0.10026239243497659\n",
      "----------------------------\n",
      "10 0.1 -0.0647484853231759\n",
      "10 0.2 -0.0647484853231759\n",
      "10 0.3 -0.0647484853231759\n",
      "10 0.4 -0.0647484853231759\n",
      "10 0.5 -0.0647484853231759\n",
      "10 0.6 -0.0647484853231759\n",
      "10 0.7 -0.0647484853231759\n",
      "10 0.8 -0.0647484853231759\n",
      "10 0.9 -0.0647484853231759\n",
      "10 1.0 -0.0647484853231759\n",
      "----------------------------\n"
     ]
    }
   ],
   "source": [
    "for i in range(1,11):\n",
    "    for j in range(1,11):\n",
    "        svm_regressor = svm.SVR(kernel=\"poly\",gamma=\"scale\",C=j/10,degree=i)\n",
    "\n",
    "        svm_regressor.fit(x_train, y_train) \n",
    "\n",
    "        #Training Data\n",
    "\n",
    "        y_pred = svm_regressor.predict(x_train)\n",
    "        metrics.r2_score(y_train,y_pred)\n",
    "\n",
    "        #i = 200\n",
    "        #print(f\"actual={y_train[i]}, prediction={y_pred[i]}\")\n",
    "\n",
    "        #Test Data\n",
    "\n",
    "        y_pred = svm_regressor.predict(x_test)\n",
    "\n",
    "        #i = 900\n",
    "        #print(f\"actual={y_test[i]}, prediction={y_pred[i]}\")\n",
    "\n",
    "        print(i,(j/10),metrics.r2_score(y_test,y_pred))\n",
    "    print(\"----------------------------\")"
   ]
  },
  {
   "cell_type": "code",
   "execution_count": null,
   "metadata": {},
   "outputs": [],
   "source": []
  },
  {
   "cell_type": "code",
   "execution_count": null,
   "metadata": {},
   "outputs": [],
   "source": []
  }
 ],
 "metadata": {
  "kernelspec": {
   "display_name": "Python 3",
   "language": "python",
   "name": "python3"
  },
  "language_info": {
   "codemirror_mode": {
    "name": "ipython",
    "version": 3
   },
   "file_extension": ".py",
   "mimetype": "text/x-python",
   "name": "python",
   "nbconvert_exporter": "python",
   "pygments_lexer": "ipython3",
   "version": "3.6.9"
  }
 },
 "nbformat": 4,
 "nbformat_minor": 4
}
